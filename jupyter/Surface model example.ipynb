{
 "cells": [
  {
   "cell_type": "code",
   "execution_count": 1,
   "metadata": {},
   "outputs": [
    {
     "name": "stderr",
     "output_type": "stream",
     "text": [
      "/Users/ingramm/miniconda3/envs/tf/lib/python3.7/site-packages/jax/lib/xla_bridge.py:116: UserWarning: No GPU/TPU found, falling back to CPU.\n",
      "  warnings.warn('No GPU/TPU found, falling back to CPU.')\n"
     ]
    }
   ],
   "source": [
    "from jax_elo.models.correlated_skills_model import fit, calculate_ratings, predict, get_player_skill_history\n",
    "\n",
    "# TODO: Get data from the repo instead\n",
    "from tdata.functional.sackmann import get_data"
   ]
  },
  {
   "cell_type": "code",
   "execution_count": 2,
   "metadata": {},
   "outputs": [],
   "source": [
    "data = get_data('/Users/ingramm/Projects/tennis/tennis-data/data/sackmann/tennis_atp/')"
   ]
  },
  {
   "cell_type": "code",
   "execution_count": 25,
   "metadata": {},
   "outputs": [],
   "source": [
    "to_use = data[data['tourney_date'].dt.year >= 2016]\n",
    "to_use = to_use.dropna(subset=['spw_winner', 'spw_loser'])"
   ]
  },
  {
   "cell_type": "code",
   "execution_count": 26,
   "metadata": {},
   "outputs": [],
   "source": [
    "margins = to_use['spw_winner'] - to_use['spw_loser']"
   ]
  },
  {
   "cell_type": "code",
   "execution_count": 27,
   "metadata": {
    "scrolled": true
   },
   "outputs": [
    {
     "name": "stdout",
     "output_type": "stream",
     "text": [
      "{'a1': 0.010000000000000002, 'a2': array(0.), 'sigma_obs': 0.1}\n",
      "[[10000.000001     0.           0.      ]\n",
      " [    0.       10000.000001     0.      ]\n",
      " [    0.           0.       10000.000001]]\n",
      "{'a1': Traced<ShapedArray(float64[])>with<JVPTrace(level=1/1)>\n",
      "  with primal = Traced<ShapedArray(float64[]):JaxprTrace(level=-1/1)>\n",
      "       tangent = Traced<ShapedArray(float64[]):JaxprTrace(level=0/1)>, 'a2': Traced<ShapedArray(float64[])>with<JVPTrace(level=1/1)>\n",
      "  with primal = Traced<ShapedArray(float64[]):JaxprTrace(level=-1/1)>\n",
      "       tangent = Traced<ShapedArray(float64[]):JaxprTrace(level=0/1)>, 'sigma_obs': Traced<ShapedArray(float64[])>with<JVPTrace(level=1/1)>\n",
      "  with primal = Traced<ShapedArray(float64[]):JaxprTrace(level=-1/1)>\n",
      "       tangent = Traced<ShapedArray(float64[]):JaxprTrace(level=0/1)>}\n",
      "Traced<ShapedArray(float64[3,3])>with<JVPTrace(level=1/1)>\n",
      "  with primal = Traced<ShapedArray(float64[3,3]):JaxprTrace(level=-1/1)>\n",
      "       tangent = Traced<ShapedArray(float64[3,3]):JaxprTrace(level=0/1)>\n",
      "{'a1': 0.8280956718203203, 'a2': array(0.00150765), 'sigma_obs': 0.09901889541765235}\n",
      "[[9.99997012e+03 1.51416016e-05 5.17441105e-05]\n",
      " [1.51416016e-05 9.99998841e+03 3.44490681e-05]\n",
      " [5.17441105e-05 3.44490681e-05 9.99994107e+03]]\n",
      "{'a1': 0.020752754140682686, 'a2': array(0.00036431), 'sigma_obs': 0.09976248046320095}\n",
      "[[9.99999278e+03 3.65885578e-06 1.25035808e-05]\n",
      " [3.65885578e-06 9.99999720e+03 8.32435617e-06]\n",
      " [1.25035808e-05 8.32435617e-06 9.99998576e+03]]\n",
      "{'a1': 0.00022824201878164044, 'a2': array(0.00012672), 'sigma_obs': 0.09991735002075809}\n",
      "[[9.99999749e+03 1.27268362e-06 4.34920188e-06]\n",
      " [1.27268362e-06 9.99999903e+03 2.89551457e-06]\n",
      " [4.34920188e-06 2.89551457e-06 9.99999505e+03]]\n",
      "{'a1': 0.03273429245625432, 'a2': array(0.6147643), 'sigma_obs': 0.2567047285526266}\n",
      "[[9.99997298e+03 1.83140005e-03 3.44417509e-03]\n",
      " [1.83140005e-03 9.99999082e+03 2.71149640e-03]\n",
      " [3.44417509e-03 2.71149640e-03 9.99994485e+03]]\n",
      "{'a1': 0.00018582435492202882, 'a2': array(0.09023527), 'sigma_obs': 0.11835971577870319}\n",
      "[[9.99999390e+03 2.69577604e-04 5.08643182e-04]\n",
      " [2.69577604e-04 9.99999782e+03 3.99988258e-04]\n",
      " [5.08643182e-04 3.99988258e-04 9.99998769e+03]]\n",
      "{'a1': 0.0023234540461309168, 'a2': array(0.28643199), 'sigma_obs': 0.010233159051408666}\n",
      "[[9.99997740e+03 1.73883689e-03 3.34937630e-03]\n",
      " [1.73883689e-03 9.99999245e+03 2.60500982e-03]\n",
      " [3.34937630e-03 2.60500982e-03 9.99995411e+03]]\n",
      "{'a1': 0.0002886733529930628, 'a2': array(0.1092965), 'sigma_obs': 0.1026806598557297}\n",
      "[[9.99999229e+03 4.12321657e-04 7.84631063e-04]\n",
      " [4.12321657e-04 9.99999730e+03 6.14214231e-04]\n",
      " [7.84631063e-04 6.14214231e-04 9.99998443e+03]]\n",
      "{'a1': 0.00019059190502195548, 'a2': array(0.11581423), 'sigma_obs': 0.0915288632698864}\n",
      "[[9.76440131e+03 3.72769905e+00 6.55261495e+00]\n",
      " [3.72769905e+00 9.91213250e+03 5.25720524e+00]\n",
      " [6.55261495e+00 5.25720524e+00 9.53537998e+03]]\n",
      "{'a1': 0.00010179188427691272, 'a2': array(0.10386837), 'sigma_obs': 0.08348130767625953}\n",
      "[[ 9993.35947084   164.53961294   317.1233106 ]\n",
      " [  164.53961294 10123.54767127   252.91280376]\n",
      " [  317.1233106    252.91280376  9932.52746704]]\n",
      "{'a1': 0.00012770803141678685, 'a2': array(0.10224326), 'sigma_obs': 0.08249078190921742}\n",
      "[[10062.79953735   290.04959124   558.5049255 ]\n",
      " [  290.04959124 10242.3514662    451.22474488]\n",
      " [  558.5049255    451.22474488 10025.53697741]]\n",
      "{'a1': 0.00017015422559564148, 'a2': array(0.09720264), 'sigma_obs': 0.08005837335622797}\n",
      "[[10198.23647674   679.25723885  1272.23467538]\n",
      " [  679.25723885 10622.35112047  1083.85833355]\n",
      " [ 1272.23467538  1083.85833355 10214.1240355 ]]\n",
      "{'a1': 0.00016032011732630336, 'a2': array(0.09776037), 'sigma_obs': 0.08051926512687824}\n",
      "[[10123.10482364   768.29728388  1409.64234364]\n",
      " [  768.29728388 10683.59239579  1219.91537054]\n",
      " [ 1409.64234364  1219.91537054 10027.49034155]]\n",
      "{'a1': 0.00015203042142701014, 'a2': array(0.09831015), 'sigma_obs': 0.08093382781320324}\n",
      "[[ 9973.35495226  1080.60716208  1913.41181598]\n",
      " [ 1080.60716208 10947.5159642   1741.98515465]\n",
      " [ 1913.41181598  1741.98515465  9688.59905494]]\n",
      "{'a1': 0.00014359941680486992, 'a2': array(0.09875351), 'sigma_obs': 0.08138874845374637}\n",
      "[[ 9676.44429319  1796.6425516   3063.72499611]\n",
      " [ 1796.6425516  11664.15456874  3116.94453087]\n",
      " [ 3063.72499611  3116.94453087  9363.05266923]]\n",
      "{'a1': 0.00013530455792873584, 'a2': array(0.09913458), 'sigma_obs': 0.0816452420006492}\n",
      "[[ 9036.42888473  3426.2986167   5623.22361785]\n",
      " [ 3426.2986167  13875.53049253  7226.59952778]\n",
      " [ 5623.22361785  7226.59952778 10696.81026658]]\n",
      "{'a1': 0.00013720280353052196, 'a2': array(0.09901451), 'sigma_obs': 0.08126050778767355}\n",
      "[[ 8947.00958442  3763.59830959  6044.70489355]\n",
      " [ 3763.59830959 14424.54502367  8110.89721915]\n",
      " [ 6044.70489355  8110.89721915 11090.8021366 ]]\n",
      "{'a1': 0.0001412451934004415, 'a2': array(0.0985876), 'sigma_obs': 0.08109377915422579}\n",
      "[[ 8915.18764566  4052.70265174  6251.43867031]\n",
      " [ 4052.70265174 14890.77731182  8672.8524593 ]\n",
      " [ 6251.43867031  8672.8524593  11074.99086431]]\n",
      "{'a1': 0.000147635897802155, 'a2': array(0.09813549), 'sigma_obs': 0.08068266248942443}\n",
      "[[ 8926.40747509  4412.9755087   6259.65927545]\n",
      " [ 4412.9755087  15447.10459757  9012.65396012]\n",
      " [ 6259.65927545  9012.65396012 10417.95247546]]\n",
      "{'a1': 0.00015453041247060013, 'a2': array(0.09753404), 'sigma_obs': 0.08070687548221295}\n",
      "[[ 8959.80663469  4819.295502    5980.99268094]\n",
      " [ 4819.295502   16043.90509211  8955.26031116]\n",
      " [ 5980.99268094  8955.26031116  8991.25093081]]\n",
      "{'a1': 0.00015447801001985506, 'a2': array(0.0976848), 'sigma_obs': 0.08081595848969822}\n",
      "[[ 8941.40856004  4951.26708181  5647.01915666]\n",
      " [ 4951.26708181 16190.25616075  8576.19267786]\n",
      " [ 5647.01915666  8576.19267786  7952.82041231]]\n",
      "{'a1': 0.0001506422590141197, 'a2': array(0.0979398), 'sigma_obs': 0.08117027047300908}\n",
      "[[ 8848.28411553  4938.10818736  5584.45744987]\n",
      " [ 4938.10818736 16153.18263172  8510.67821505]\n",
      " [ 5584.45744987  8510.67821505  7815.86832178]]\n",
      "{'a1': 0.00014810480048563516, 'a2': array(0.09817971), 'sigma_obs': 0.08119063136003492}\n",
      "[[ 8742.66737373  4926.85278538  5606.38540564]\n",
      " [ 4926.85278538 16133.66637366  8577.58288539]\n",
      " [ 5606.38540564  8577.58288539  7885.49643123]]\n",
      "{'a1': 0.0001474124568113517, 'a2': array(0.0982166), 'sigma_obs': 0.08124933603569691}\n",
      "[[ 8635.28915418  4932.98170914  5624.10192471]\n",
      " [ 4932.98170914 16137.78614953  8651.9827863 ]\n",
      " [ 5624.10192471  8651.9827863   7921.93134771]]\n",
      "{'a1': 0.0001471931240047141, 'a2': array(0.09824733), 'sigma_obs': 0.08126623563240204}\n",
      "[[ 8438.99131992  4922.30066718  5620.85300635]\n",
      " [ 4922.30066718 16092.71127311  8713.5515668 ]\n",
      " [ 5620.85300635  8713.5515668   7933.85611619]]\n",
      "{'a1': 0.00014782870984756926, 'a2': array(0.09822568), 'sigma_obs': 0.08127994234083093}\n",
      "[[ 8083.87151978  4860.71617766  5568.67261286]\n",
      " [ 4860.71617766 15915.2318971   8717.29044279]\n",
      " [ 5568.67261286  8717.29044279  7902.59151044]]\n",
      "{'a1': 0.00015023133979783526, 'a2': array(0.09812055), 'sigma_obs': 0.08125799876883223}\n",
      "[[ 7505.19149127  4684.30379737  5404.50303713]\n",
      " [ 4684.30379737 15441.50653685  8530.75248726]\n",
      " [ 5404.50303713  8530.75248726  7757.87245294]]\n",
      "{'a1': 0.0001522349183786985, 'a2': array(0.09801959), 'sigma_obs': 0.08122792818210245}\n",
      "[[ 7314.70002707  4560.00962183  5287.49861511]\n",
      " [ 4560.00962183 15099.85547068  8288.86219377]\n",
      " [ 5287.49861511  8288.86219377  7625.08556826]]\n",
      "{'a1': 0.00015430940852155381, 'a2': array(0.0979122), 'sigma_obs': 0.08119008925919524}\n",
      "[[ 7269.93043847  4439.56463768  5181.45262494]\n",
      " [ 4439.56463768 14737.83526724  7985.61643688]\n",
      " [ 5181.45262494  7985.61643688  7492.38213179]]\n",
      "{'a1': 0.00015461071005096322, 'a2': array(0.09789605), 'sigma_obs': 0.08118400049356553}\n",
      "[[ 7308.75554875  4423.75825766  5172.4098286 ]\n",
      " [ 4423.75825766 14644.26023826  7918.25774032]\n",
      " [ 5172.4098286   7918.25774032  7471.86341486]]\n",
      "{'a1': 0.00015485584013296428, 'a2': array(0.09788295), 'sigma_obs': 0.08118012377459669}\n",
      "[[ 7363.58180067  4412.2006353   5172.81667335]\n",
      " [ 4412.2006353  14492.23321446  7844.06155159]\n",
      " [ 5172.81667335  7844.06155159  7452.50473248]]\n",
      "{'a1': 0.00015513035198478752, 'a2': array(0.09786963), 'sigma_obs': 0.08117873273733268}\n",
      "[[ 7434.64422423  4402.27868091  5184.34991139]\n",
      " [ 4402.27868091 14217.8553418   7747.10330118]\n",
      " [ 5184.34991139  7747.10330118  7428.57253489]]\n"
     ]
    },
    {
     "name": "stdout",
     "output_type": "stream",
     "text": [
      "{'a1': 0.00015546114254641995, 'a2': array(0.09785603), 'sigma_obs': 0.08118202951820358}\n",
      "[[ 7528.17822986  4397.28793945  5218.01945579]\n",
      " [ 4397.28793945 13713.68253442  7613.62078847]\n",
      " [ 5218.01945579  7613.62078847  7396.731839  ]]\n",
      "{'a1': 0.00015575839107705638, 'a2': array(0.09784999), 'sigma_obs': 0.08119749168175507}\n",
      "[[ 7633.63428071  4413.42204334  5299.78827425]\n",
      " [ 4413.42204334 12829.6234352   7452.41730331]\n",
      " [ 5299.78827425  7452.41730331  7363.30983796]]\n",
      "{'a1': 0.0001555584894656302, 'a2': array(0.09786549), 'sigma_obs': 0.08121008527423224}\n",
      "[[ 7611.46580836  4443.937784    5340.91836719]\n",
      " [ 4443.937784   12587.92095443  7477.84486909]\n",
      " [ 5340.91836719  7477.84486909  7376.41677427]]\n",
      "{'a1': 0.00015520843426457585, 'a2': array(0.09788812), 'sigma_obs': 0.08122284283857628}\n",
      "[[ 7522.82851031  4481.60932027  5364.61301489]\n",
      " [ 4481.60932027 12520.01345109  7573.22265744]\n",
      " [ 5364.61301489  7573.22265744  7404.94386237]]\n",
      "{'a1': 0.0001551593353824197, 'a2': array(0.09789196), 'sigma_obs': 0.08122438850942486}\n",
      "[[ 7485.21977629  4488.13912732  5355.90344407]\n",
      " [ 4488.13912732 12551.32189499  7605.73855317]\n",
      " [ 5355.90344407  7605.73855317  7409.36407215]]\n",
      "{'a1': 0.00015517130756417016, 'a2': array(0.09789304), 'sigma_obs': 0.0812250632245475}\n",
      "[[ 7440.25729812  4493.68593148  5333.25167649]\n",
      " [ 4493.68593148 12579.1514669   7640.40348657]\n",
      " [ 5333.25167649  7640.40348657  7412.53620477]]\n",
      "{'a1': 0.00015526899944755035, 'a2': array(0.09789034), 'sigma_obs': 0.08122416688653342}\n",
      "[[ 7405.58647031  4498.62488642  5296.2716311 ]\n",
      " [ 4498.62488642 12559.72922254  7663.79249073]\n",
      " [ 5296.2716311   7663.79249073  7413.1918512 ]]\n",
      "{'a1': 0.00015542639816472904, 'a2': array(0.0978841), 'sigma_obs': 0.08122220016686241}\n",
      "[[ 7410.18779893  4500.80335926  5261.23553272]\n",
      " [ 4500.80335926 12470.31857251  7654.8274861 ]\n",
      " [ 5261.23553272  7654.8274861   7410.37957309]]\n",
      "{'a1': 0.0001555170224538033, 'a2': array(0.09787979), 'sigma_obs': 0.08122091428755512}\n",
      "[[ 7441.40418088  4499.59067016  5251.84281511]\n",
      " [ 4499.59067016 12387.40024194  7627.55914845]\n",
      " [ 5251.84281511  7627.55914845  7406.41397317]]\n",
      "{'a1': 0.0001555275034696961, 'a2': array(0.09787898), 'sigma_obs': 0.08122082617534929}\n",
      "[[ 7457.26545328  4498.45188108  5255.21605975]\n",
      " [ 4498.45188108 12363.89000862  7615.22536379]\n",
      " [ 5255.21605975  7615.22536379  7404.66401653]]\n",
      "{'a1': 0.0001555247637208899, 'a2': array(0.09787901), 'sigma_obs': 0.08122087485891971}\n",
      "[[ 7459.69997832  4498.05821565  5256.7958015 ]\n",
      " [ 4498.05821565 12362.60453818  7613.58970513]\n",
      " [ 5256.7958015   7613.58970513  7404.44416644]]\n",
      "{'a1': 0.00015552382984727255, 'a2': array(0.09787903), 'sigma_obs': 0.08122089001275042}\n",
      "[[ 7460.31500601  4497.69985854  5257.32178964]\n",
      " [ 4497.69985854 12362.43122485  7613.20153374]\n",
      " [ 5257.32178964  7613.20153374  7404.34724749]]\n",
      "{'a1': 0.00015552337251434407, 'a2': array(0.09787902), 'sigma_obs': 0.0812209075484997}\n",
      "[[ 7460.87253577  4497.02035881  5257.77548122]\n",
      " [ 4497.02035881 12362.06303363  7612.85086656]\n",
      " [ 5257.77548122  7612.85086656  7404.18391793]]\n",
      "{'a1': 0.00015552358895885239, 'a2': array(0.09787899), 'sigma_obs': 0.08122093201160498}\n",
      "[[ 7461.45235655  4495.72615265  5258.18137328]\n",
      " [ 4495.72615265 12361.27516435  7612.4868621 ]\n",
      " [ 5258.18137328  7612.4868621   7403.88882884]]\n",
      "{'a1': 0.0001555252519476527, 'a2': array(0.09787891), 'sigma_obs': 0.08122097066094322}\n",
      "[[ 7462.02305589  4493.20863108  5258.43775318]\n",
      " [ 4493.20863108 12359.6369008   7612.1309467 ]\n",
      " [ 5258.43775318  7612.1309467   7403.33446151]]\n",
      "{'a1': 0.00015553048910830816, 'a2': array(0.09787869), 'sigma_obs': 0.0812210349583142}\n",
      "[[ 7462.30602374  4488.15871917  5258.12665886]\n",
      " [ 4488.15871917 12356.18959988  7611.96341997]\n",
      " [ 5258.12665886  7611.96341997  7402.25456441]]\n",
      "{'a1': 0.00015553899494085056, 'a2': array(0.09787839), 'sigma_obs': 0.0812210902025204}\n",
      "[[ 7461.44459947  4482.45074135  5256.64331966]\n",
      " [ 4482.45074135 12352.07123285  7612.52551579]\n",
      " [ 5256.64331966  7612.52551579  7401.07598879]]\n",
      "{'a1': 0.00015554336573051644, 'a2': array(0.09787827), 'sigma_obs': 0.08122108938509896}\n",
      "[[ 7460.20673567  4481.01758556  5255.29289838]\n",
      " [ 4481.01758556 12350.83362992  7613.31303305]\n",
      " [ 5255.29289838  7613.31303305  7400.81006027]]\n",
      "{'a1': 0.0001555462390227948, 'a2': array(0.09787821), 'sigma_obs': 0.08122106973086378}\n",
      "[[ 7458.874462    4481.07384378  5254.02553553]\n",
      " [ 4481.07384378 12350.59962859  7614.15092617]\n",
      " [ 5254.02553553  7614.15092617  7400.86610492]]\n",
      "{'a1': 0.000155546153346548, 'a2': array(0.09787822), 'sigma_obs': 0.0812210619254572}\n",
      "[[ 7458.70303893  4481.48066008  5253.90866786]\n",
      " [ 4481.48066008 12350.84492278  7614.25534841]\n",
      " [ 5253.90866786  7614.25534841  7400.95987319]]\n",
      "{'a1': 0.0001555460350764931, 'a2': array(0.09787823), 'sigma_obs': 0.08122106071618303}\n",
      "[[ 7458.7055678   4481.57967465  5253.92247977]\n",
      " [ 4481.57967465 12350.91436939  7614.25277   ]\n",
      " [ 5253.92247977  7614.25277     7400.98129021]]\n"
     ]
    }
   ],
   "source": [
    "params, opt_info = fit(to_use['winner_name'], to_use['loser_name'], to_use['surface'].values, \n",
    "                       margins=margins.values, verbose=True)"
   ]
  },
  {
   "cell_type": "code",
   "execution_count": 28,
   "metadata": {},
   "outputs": [
    {
     "data": {
      "text/plain": [
       "EloParams(theta={'a1': 0.0001555460350764931, 'a2': array(0.09787823), 'sigma_obs': 0.08122106071618303}, cov_mat=DeviceArray([[ 7458.7055678 ,  4481.57967465,  5253.92247977],\n",
       "             [ 4481.57967465, 12350.91436939,  7614.25277   ],\n",
       "             [ 5253.92247977,  7614.25277   ,  7400.98129021]],            dtype=float64))"
      ]
     },
     "execution_count": 28,
     "metadata": {},
     "output_type": "execute_result"
    }
   ],
   "source": [
    "params"
   ]
  },
  {
   "cell_type": "code",
   "execution_count": 29,
   "metadata": {},
   "outputs": [
    {
     "data": {
      "text/plain": [
       "0.0001555460350764931"
      ]
     },
     "execution_count": 29,
     "metadata": {},
     "output_type": "execute_result"
    }
   ],
   "source": [
    "params.theta['a1']"
   ]
  },
  {
   "cell_type": "code",
   "execution_count": 30,
   "metadata": {
    "scrolled": true
   },
   "outputs": [
    {
     "name": "stderr",
     "output_type": "stream",
     "text": [
      "  0%|          | 0/10841 [00:00<?, ?it/s]\n",
      "  0%|          | 0/10841 [00:00<?, ?it/s]\u001b[A\n",
      "  0%|          | 1/10841 [00:00<1:54:02,  1.58it/s]\u001b[A\n",
      "  1%|          | 55/10841 [00:00<1:19:31,  2.26it/s]\u001b[A\n",
      "  1%|▏         | 143/10841 [00:00<55:16,  3.23it/s] \u001b[A\n",
      "  2%|▏         | 214/10841 [00:00<38:30,  4.60it/s]\u001b[A\n",
      "  3%|▎         | 280/10841 [00:01<26:52,  6.55it/s]\u001b[A\n",
      "  3%|▎         | 339/10841 [00:01<18:47,  9.31it/s]\u001b[A\n",
      "  4%|▎         | 401/10841 [00:01<13:09, 13.22it/s]\u001b[A\n",
      "  4%|▍         | 468/10841 [00:01<09:13, 18.72it/s]\u001b[A\n",
      "  5%|▌         | 570/10841 [00:01<06:27, 26.54it/s]\u001b[A\n",
      "  6%|▋         | 689/10841 [00:01<04:30, 37.55it/s]\u001b[A\n",
      "  7%|▋         | 807/10841 [00:01<03:09, 52.92it/s]\u001b[A\n",
      "  8%|▊         | 915/10841 [00:01<02:14, 74.03it/s]\u001b[A\n",
      "  9%|▉         | 1014/10841 [00:01<01:36, 102.16it/s]\u001b[A\n",
      " 10%|█         | 1111/10841 [00:01<01:09, 139.03it/s]\u001b[A\n",
      " 11%|█         | 1218/10841 [00:02<00:51, 188.05it/s]\u001b[A\n",
      " 12%|█▏        | 1320/10841 [00:02<00:38, 248.62it/s]\u001b[A\n",
      " 13%|█▎        | 1419/10841 [00:02<00:30, 304.08it/s]\u001b[A\n",
      " 14%|█▍        | 1507/10841 [00:02<00:24, 375.43it/s]\u001b[A\n",
      " 15%|█▍        | 1613/10841 [00:02<00:19, 464.99it/s]\u001b[A\n",
      " 16%|█▌        | 1721/10841 [00:02<00:16, 560.73it/s]\u001b[A\n",
      " 17%|█▋        | 1836/10841 [00:02<00:13, 660.96it/s]\u001b[A\n",
      " 18%|█▊        | 1941/10841 [00:02<00:12, 739.17it/s]\u001b[A\n",
      " 19%|█▉        | 2043/10841 [00:02<00:11, 755.11it/s]\u001b[A\n",
      " 20%|█▉        | 2150/10841 [00:03<00:10, 824.34it/s]\u001b[A\n",
      " 21%|██        | 2259/10841 [00:03<00:09, 883.67it/s]\u001b[A\n",
      " 22%|██▏       | 2360/10841 [00:03<00:09, 862.73it/s]\u001b[A\n",
      " 23%|██▎       | 2455/10841 [00:03<00:09, 872.62it/s]\u001b[A\n",
      " 24%|██▍       | 2584/10841 [00:03<00:08, 965.23it/s]\u001b[A\n",
      " 25%|██▍       | 2688/10841 [00:03<00:11, 715.01it/s]\u001b[A\n",
      " 26%|██▋       | 2859/10841 [00:03<00:12, 664.01it/s]\u001b[A\n",
      " 27%|██▋       | 2966/10841 [00:04<00:10, 748.18it/s]\u001b[A\n",
      " 28%|██▊       | 3081/10841 [00:04<00:09, 834.57it/s]\u001b[A\n",
      " 29%|██▉       | 3175/10841 [00:04<00:08, 855.29it/s]\u001b[A\n",
      " 30%|███       | 3268/10841 [00:04<00:08, 873.08it/s]\u001b[A\n",
      " 31%|███       | 3361/10841 [00:04<00:08, 886.25it/s]\u001b[A\n",
      " 31%|███       | 3362/10841 [00:04<00:08, 880.17it/s]\u001b[A\n",
      " 32%|███▏      | 3454/10841 [00:04<00:08, 859.43it/s]\u001b[A\n",
      " 33%|███▎      | 3569/10841 [00:04<00:07, 928.01it/s]\u001b[A\n",
      " 34%|███▍      | 3695/10841 [00:04<00:07, 1002.45it/s]\u001b[A\n",
      " 35%|███▌      | 3801/10841 [00:04<00:06, 1013.72it/s]\u001b[A\n",
      " 36%|███▌      | 3906/10841 [00:05<00:07, 970.35it/s] \u001b[A\n",
      " 37%|███▋      | 4006/10841 [00:05<00:07, 861.68it/s]\u001b[A\n",
      " 38%|███▊      | 4097/10841 [00:05<00:07, 854.60it/s]\u001b[A\n",
      " 39%|███▊      | 4192/10841 [00:05<00:07, 876.77it/s]\u001b[A\n",
      " 40%|███▉      | 4314/10841 [00:05<00:06, 957.33it/s]\u001b[A\n",
      " 41%|████      | 4441/10841 [00:05<00:06, 1030.71it/s]\u001b[A\n",
      " 42%|████▏     | 4573/10841 [00:05<00:05, 1101.99it/s]\u001b[A\n",
      " 43%|████▎     | 4702/10841 [00:05<00:05, 1148.10it/s]\u001b[A\n",
      " 44%|████▍     | 4821/10841 [00:05<00:05, 1092.31it/s]\u001b[A\n",
      " 46%|████▌     | 4963/10841 [00:06<00:05, 1170.29it/s]\u001b[A\n",
      " 47%|████▋     | 5084/10841 [00:06<00:04, 1177.34it/s]\u001b[A\n",
      " 48%|████▊     | 5205/10841 [00:06<00:05, 1101.24it/s]\u001b[A\n",
      " 49%|████▉     | 5318/10841 [00:06<00:05, 992.18it/s] \u001b[A\n",
      " 50%|█████     | 5439/10841 [00:06<00:05, 1048.59it/s]\u001b[A\n",
      " 51%|█████     | 5554/10841 [00:06<00:04, 1072.20it/s]\u001b[A\n",
      " 52%|█████▏    | 5664/10841 [00:06<00:04, 1042.36it/s]\u001b[A\n",
      " 53%|█████▎    | 5771/10841 [00:06<00:04, 1019.36it/s]\u001b[A\n",
      " 54%|█████▍    | 5875/10841 [00:06<00:05, 972.91it/s] \u001b[A\n",
      " 55%|█████▌    | 5974/10841 [00:07<00:05, 966.16it/s]\u001b[A\n",
      " 56%|█████▋    | 6105/10841 [00:07<00:04, 1045.30it/s]\u001b[A\n",
      " 58%|█████▊    | 6237/10841 [00:07<00:04, 1113.43it/s]\u001b[A\n",
      " 59%|█████▊    | 6352/10841 [00:07<00:04, 1115.19it/s]\u001b[A\n",
      " 60%|█████▉    | 6487/10841 [00:07<00:03, 1176.22it/s]\u001b[A\n",
      " 61%|██████    | 6623/10841 [00:07<00:03, 1223.56it/s]\u001b[A\n",
      " 62%|██████▏   | 6751/10841 [00:07<00:03, 1232.61it/s]\u001b[A\n",
      " 64%|██████▎   | 6889/10841 [00:07<00:03, 1271.54it/s]\u001b[A\n",
      " 65%|██████▍   | 7019/10841 [00:07<00:02, 1278.85it/s]\u001b[A\n",
      " 66%|██████▌   | 7148/10841 [00:07<00:03, 1182.52it/s]\u001b[A\n",
      " 67%|██████▋   | 7269/10841 [00:08<00:03, 1138.87it/s]\u001b[A\n",
      " 69%|██████▉   | 7497/10841 [00:08<00:03, 1003.41it/s]\u001b[A\n",
      " 70%|███████   | 7614/10841 [00:08<00:03, 1047.04it/s]\u001b[A\n",
      " 70%|███████   | 7615/10841 [00:08<00:03, 1040.91it/s]\u001b[A\n",
      " 72%|███████▏  | 7824/10841 [00:08<00:03, 906.07it/s] \u001b[A\n",
      " 73%|███████▎  | 7932/10841 [00:08<00:03, 951.47it/s] \u001b[A\n",
      " 74%|███████▍  | 8057/10841 [00:08<00:02, 1024.03it/s][A\n",
      " 75%|███████▌  | 8163/10841 [00:09<00:02, 1018.45it/s]\u001b[A\n",
      " 76%|███████▋  | 8268/10841 [00:09<00:02, 1001.78it/s]\u001b[A\n",
      " 77%|███████▋  | 8370/10841 [00:09<00:02, 992.20it/s] \u001b[A\n",
      " 78%|███████▊  | 8471/10841 [00:09<00:02, 920.98it/s]\u001b[A\n",
      " 79%|███████▉  | 8583/10841 [00:09<00:02, 971.59it/s]\u001b[A\n",
      " 80%|████████  | 8707/10841 [00:09<00:02, 1038.72it/s][A\n",
      " 81%|████████▏ | 8826/10841 [00:09<00:01, 1078.07it/s]\u001b[A\n",
      " 83%|████████▎ | 8958/10841 [00:09<00:01, 1139.54it/s]\u001b[A\n",
      " 84%|████████▎ | 9077/10841 [00:09<00:01, 1153.14it/s]\u001b[A\n",
      " 85%|████████▍ | 9195/10841 [00:09<00:01, 1144.99it/s]\u001b[A\n",
      " 86%|████████▌ | 9334/10841 [00:10<00:01, 1206.84it/s]\u001b[A\n",
      " 87%|████████▋ | 9458/10841 [00:10<00:01, 1215.91it/s]\u001b[A\n",
      " 89%|████████▊ | 9595/10841 [00:10<00:00, 1257.27it/s]\u001b[A\n",
      " 90%|████████▉ | 9722/10841 [00:10<00:00, 1198.59it/s]\u001b[A\n",
      " 91%|█████████ | 9844/10841 [00:10<00:00, 1189.90it/s]\u001b[A\n",
      " 92%|█████████▏| 9965/10841 [00:10<00:00, 1104.05it/s]\u001b[A\n",
      " 93%|█████████▎| 10078/10841 [00:10<00:00, 1054.69it/s][A\n",
      " 94%|█████████▍| 10186/10841 [00:10<00:00, 1031.52it/s]\u001b[A\n",
      " 95%|█████████▍| 10291/10841 [00:10<00:00, 973.93it/s] \u001b[A\n",
      " 96%|█████████▌| 10401/10841 [00:11<00:00, 1006.81it/s]\u001b[A\n",
      " 97%|█████████▋| 10531/10841 [00:11<00:00, 1078.83it/s]\u001b[A\n",
      " 98%|█████████▊| 10656/10841 [00:11<00:00, 1123.55it/s]\u001b[A\n",
      " 99%|█████████▉| 10771/10841 [00:11<00:00, 1109.90it/s]\u001b[A\n",
      "100%|██████████| 10841/10841 [00:11<00:00, 949.07it/s] \u001b[A\n",
      "100%|██████████| 10841/10841 [00:11<00:00, 949.58it/s] \n"
     ]
    }
   ],
   "source": [
    "history, final_rating_dict, mark_names = calculate_ratings(params, to_use['winner_name'], to_use['loser_name'],\n",
    "                                            to_use['surface'].values, margins.values)"
   ]
  },
  {
   "cell_type": "code",
   "execution_count": 31,
   "metadata": {},
   "outputs": [
    {
     "data": {
      "text/plain": [
       "{'winner': 'Thiago Seyboth Wild',\n",
       " 'loser': 'Casper Ruud',\n",
       " 'winner_prior_mean': {'Clay': 1547.498469241016,\n",
       "  'Grass': 1528.5395598998512,\n",
       "  'Hard': 1533.4579871844603},\n",
       " 'loser_prior_mean': {'Clay': 1767.6062863520092,\n",
       "  'Grass': 1622.269498834001,\n",
       "  'Hard': 1653.299511690967},\n",
       " 'winner_prior_prob': 0.23875966578242916,\n",
       " 'cur_mark': 'Clay'}"
      ]
     },
     "execution_count": 31,
     "metadata": {},
     "output_type": "execute_result"
    }
   ],
   "source": [
    "history[-1]"
   ]
  },
  {
   "cell_type": "code",
   "execution_count": 32,
   "metadata": {},
   "outputs": [
    {
     "data": {
      "text/plain": [
       "0.9211069909895352"
      ]
     },
     "execution_count": 32,
     "metadata": {},
     "output_type": "execute_result"
    }
   ],
   "source": [
    "predict(final_rating_dict, params, 'Roger Federer', 'Tennys Sandgren', 'Hard', mark_names)"
   ]
  },
  {
   "cell_type": "code",
   "execution_count": 34,
   "metadata": {},
   "outputs": [
    {
     "data": {
      "image/png": "[encoded data removed]",
      "text/plain": [
       "<Figure size 576x288 with 1 Axes>"
      ]
     },
     "metadata": {
      "image/png": {
       "height": 280,
       "width": 569
      },
      "needs_background": "light"
     },
     "output_type": "display_data"
    }
   ],
   "source": [
    "import matplotlib.pyplot as plt\n",
    "%matplotlib inline\n",
    "\n",
    "f, ax = plt.subplots(1, 1)\n",
    "\n",
    "start_year = 2012\n",
    "surface = 'Hard'\n",
    "\n",
    "for cur_player in ['Roger Federer', 'Rafael Nadal', 'Novak Djokovic']:\n",
    "\n",
    "    cur_history = get_player_skill_history(history, final_rating_dict, to_use['tourney_date'].values, cur_player)\n",
    "    cur_history = cur_history[cur_history.index >= f'{start_year}-01-01']\n",
    "    ax.step(cur_history.index, cur_history[surface].values, label=cur_player)\n",
    "    \n",
    "ax.legend()\n",
    "\n",
    "f.set_size_inches(8, 4)\n",
    "f.tight_layout()"
   ]
  },
  {
   "cell_type": "code",
   "execution_count": 35,
   "metadata": {},
   "outputs": [
    {
     "name": "stdout",
     "output_type": "stream",
     "text": [
      "Clay      86.363798\n",
      "Grass    111.134668\n",
      "Hard      86.028956\n",
      "dtype: float64\n"
     ]
    }
   ],
   "source": [
    "import numpy as np\n",
    "import pandas as pd\n",
    "\n",
    "prior_sd = pd.Series(np.sqrt(np.diag(params.cov_mat)), mark_names)\n",
    "print(prior_sd)"
   ]
  },
  {
   "cell_type": "code",
   "execution_count": null,
   "metadata": {},
   "outputs": [],
   "source": []
  }
 ],
 "metadata": {
  "kernelspec": {
   "display_name": "Python 3",
   "language": "python",
   "name": "python3"
  },
  "language_info": {
   "codemirror_mode": {
    "name": "ipython",
    "version": 3
   },
   "file_extension": ".py",
   "mimetype": "text/x-python",
   "name": "python",
   "nbconvert_exporter": "python",
   "pygments_lexer": "ipython3",
   "version": "3.7.6"
  }
 },
 "nbformat": 4,
 "nbformat_minor": 4
}
