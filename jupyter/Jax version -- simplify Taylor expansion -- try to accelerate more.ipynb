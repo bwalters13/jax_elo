{
 "cells": [
  {
   "cell_type": "code",
   "execution_count": 1,
   "metadata": {},
   "outputs": [],
   "source": [
    "from jax.config import config\n",
    "config.update(\"jax_enable_x64\", True)\n",
    "\n",
    "import jax.numpy as jnp\n",
    "import numpy as onp\n",
    "import matplotlib.pyplot as plt\n",
    "%matplotlib inline"
   ]
  },
  {
   "cell_type": "code",
   "execution_count": 2,
   "metadata": {},
   "outputs": [],
   "source": [
    "from tdata.datasets.oncourt_dataset import OnCourtDataset"
   ]
  },
  {
   "cell_type": "code",
   "execution_count": 3,
   "metadata": {},
   "outputs": [
    {
     "name": "stderr",
     "output_type": "stream",
     "text": [
      "/anaconda2/envs/jax/lib/python3.7/site-packages/pandas/core/indexing.py:376: SettingWithCopyWarning: \n",
      "A value is trying to be set on a copy of a slice from a DataFrame.\n",
      "Try using .loc[row_indexer,col_indexer] = value instead\n",
      "\n",
      "See the caveats in the documentation: http://pandas.pydata.org/pandas-docs/stable/user_guide/indexing.html#returning-a-view-versus-a-copy\n",
      "  self.obj[key] = _infer_fill_value(value)\n",
      "/anaconda2/envs/jax/lib/python3.7/site-packages/pandas/core/indexing.py:494: SettingWithCopyWarning: \n",
      "A value is trying to be set on a copy of a slice from a DataFrame.\n",
      "Try using .loc[row_indexer,col_indexer] = value instead\n",
      "\n",
      "See the caveats in the documentation: http://pandas.pydata.org/pandas-docs/stable/user_guide/indexing.html#returning-a-view-versus-a-copy\n",
      "  self.obj[item] = s\n"
     ]
    },
    {
     "name": "stdout",
     "output_type": "stream",
     "text": [
      "Warning: dropping duplicates reduced size from 47289 to 47197.\n"
     ]
    }
   ],
   "source": [
    "dataset = OnCourtDataset()"
   ]
  },
  {
   "cell_type": "code",
   "execution_count": 4,
   "metadata": {},
   "outputs": [],
   "source": [
    "df = dataset.get_stats_df()"
   ]
  },
  {
   "cell_type": "code",
   "execution_count": 45,
   "metadata": {},
   "outputs": [],
   "source": [
    "to_use = df[df['year'] >= 2000]\n",
    "to_use = to_use.dropna(subset=['W1S_1'])\n",
    "\n",
    "spw_1 = (to_use['W1S_1'] + to_use['W2S_1']) / (to_use['W1SOF_1'] + to_use['W2SOF_1'])\n",
    "spw_2 = (to_use['W1S_2'] + to_use['W2S_2']) / (to_use['W1SOF_2'] + to_use['W2SOF_2'])\n",
    "\n",
    "margins = (spw_1 - spw_2).values"
   ]
  },
  {
   "cell_type": "code",
   "execution_count": 46,
   "metadata": {},
   "outputs": [],
   "source": [
    "winners = to_use['winner'].values\n",
    "losers = to_use['loser'].values\n",
    "surface = to_use['surface'].values"
   ]
  },
  {
   "cell_type": "code",
   "execution_count": 47,
   "metadata": {},
   "outputs": [],
   "source": [
    "from sklearn.preprocessing import LabelEncoder"
   ]
  },
  {
   "cell_type": "code",
   "execution_count": 48,
   "metadata": {},
   "outputs": [],
   "source": [
    "surf_encoder = LabelEncoder()"
   ]
  },
  {
   "cell_type": "code",
   "execution_count": 49,
   "metadata": {},
   "outputs": [],
   "source": [
    "surface_enc = surf_encoder.fit_transform(surface)"
   ]
  },
  {
   "cell_type": "code",
   "execution_count": 50,
   "metadata": {},
   "outputs": [],
   "source": [
    "n_matches = winners.shape[0]\n",
    "\n",
    "a_winner = onp.zeros((n_matches, len(surf_encoder.classes_)))\n",
    "a_winner[onp.arange(n_matches), surface_enc] = 1\n",
    "a_loser = a_winner.copy()\n",
    "\n",
    "a_full = onp.concatenate([a_winner, -a_loser], axis=1)"
   ]
  },
  {
   "cell_type": "code",
   "execution_count": 51,
   "metadata": {},
   "outputs": [
    {
     "data": {
      "text/plain": [
       "(37379, 10)"
      ]
     },
     "execution_count": 51,
     "metadata": {},
     "output_type": "execute_result"
    }
   ],
   "source": [
    "a_full.shape"
   ]
  },
  {
   "cell_type": "code",
   "execution_count": 52,
   "metadata": {},
   "outputs": [],
   "source": [
    "from jax import hessian, jacobian\n",
    "from functools import partial"
   ]
  },
  {
   "cell_type": "code",
   "execution_count": 53,
   "metadata": {},
   "outputs": [],
   "source": [
    "from ml_tools.jax import weighted_sum, logistic_normal_integral_approx\n",
    "from jax.scipy.stats import multivariate_normal, norm\n",
    "from jax import jit\n",
    "from jax.scipy.special import expit"
   ]
  },
  {
   "cell_type": "code",
   "execution_count": 54,
   "metadata": {},
   "outputs": [],
   "source": [
    "## DEFINED BY USER\n",
    "\n",
    "@jit\n",
    "def calculate_likelihood(x, a, theta, y):\n",
    "    \n",
    "    margin = y[0]\n",
    "    \n",
    "    margin_prob = norm.logpdf(margin, theta['factor'] * (a @ x) + theta['offset'], \n",
    "                              theta['obs_sd'])\n",
    "    \n",
    "    win_prob = jnp.log(expit(a @ x))\n",
    "    \n",
    "    return margin_prob + win_prob\n",
    "\n",
    "@jit\n",
    "def calculate_predictive_lik(x, a, cov_mat, theta, y):\n",
    "    \n",
    "    margin = y[0]\n",
    "    \n",
    "    latent_mean, latent_var = weighted_sum(x, cov_mat, a)\n",
    "    \n",
    "    margin_prob = norm.logpdf(margin, theta['factor'] * (latent_mean) + theta['offset'], \n",
    "                              jnp.sqrt(theta['obs_sd']**2 + theta['factor']**2 * latent_var))\n",
    "    \n",
    "    win_prob = jnp.log(logistic_normal_integral_approx(latent_mean, latent_var))\n",
    "    \n",
    "    return win_prob + margin_prob\n",
    "\n",
    "@jit\n",
    "def calculate_prior(x, mu, cov_mat, theta):\n",
    "    \n",
    "    return multivariate_normal.logpdf(x, mu, cov_mat)\n",
    "\n",
    "@jit\n",
    "def calculate_log_posterior(x, mu, cov_mat, a, theta, y):\n",
    "    \n",
    "    return calculate_likelihood(x, a, theta, y) + calculate_prior(x, mu, cov_mat, theta)"
   ]
  },
  {
   "cell_type": "code",
   "execution_count": 55,
   "metadata": {},
   "outputs": [],
   "source": [
    "## General code\n",
    "\n",
    "# TODO: Could group the functions etc. together into a namedtuple\n",
    "# if JAX allows this.\n",
    "\n",
    "@partial(jit, static_argnums=4)\n",
    "def calculate_update(mu, cov_mat, a, y, elo_functions, elo_params):\n",
    "        \n",
    "    lik = elo_functions.predictive_lik_fun(mu, a, cov_mat, elo_params.theta, y)\n",
    "    \n",
    "    # Evaluate Jacobian and Hessian at the current guess\n",
    "    mode_jac = elo_functions.log_post_jac_x(mu, mu, cov_mat, a, elo_params.theta, y)\n",
    "    mode_hess = elo_functions.log_post_hess_x(mu, mu, cov_mat, a, elo_params.theta, y)\n",
    "    \n",
    "    # Get the updated guess from linearising\n",
    "    new_x = -jnp.linalg.solve(mode_hess, mode_jac)\n",
    "    \n",
    "    return new_x + mu, lik\n",
    "\n",
    "@partial(jit, static_argnums=4)\n",
    "def compute_update(mu1, mu2, a, y, elo_functions, elo_params):\n",
    "    \n",
    "    mu = jnp.concatenate([mu1, mu2])\n",
    "    cov_full = jnp.kron(jnp.eye(2), elo_params.cov_mat)\n",
    "    new_mu, lik = calculate_update(mu, cov_full, a, y, elo_functions, elo_params)\n",
    "    \n",
    "    new_mu1, new_mu2 = jnp.split(new_mu, 2)\n",
    "    \n",
    "    return new_mu1, new_mu2, lik"
   ]
  },
  {
   "cell_type": "code",
   "execution_count": 56,
   "metadata": {},
   "outputs": [],
   "source": [
    "from collections import namedtuple\n",
    "from jax import grad\n",
    "\n",
    "# Give it a go\n",
    "EloFunctions = namedtuple('EloConfig', 'log_post_jac_x,log_post_hess_x,predictive_lik_fun')\n",
    "EloParams = namedtuple('EloParams', 'theta,cov_mat')"
   ]
  },
  {
   "cell_type": "code",
   "execution_count": 57,
   "metadata": {},
   "outputs": [],
   "source": [
    "from jax.ops import index_update\n",
    "\n",
    "def update_ratings(carry, x, elo_functions, elo_params):\n",
    "    \n",
    "    cur_winner, cur_loser, cur_a, cur_y = x\n",
    "    \n",
    "    new_winner_mean, new_loser_mean, lik = compute_update(\n",
    "        carry[cur_winner], carry[cur_loser], cur_a, cur_y, elo_functions, elo_params)\n",
    "    \n",
    "    carry = index_update(carry, cur_winner, new_winner_mean)\n",
    "    carry = index_update(carry, cur_loser, new_loser_mean)\n",
    "    \n",
    "    return carry, lik"
   ]
  },
  {
   "cell_type": "code",
   "execution_count": 58,
   "metadata": {},
   "outputs": [],
   "source": [
    "import numpy as onp\n",
    "\n",
    "encoder = LabelEncoder()\n",
    "encoder.fit(onp.concatenate([winners, losers]))\n",
    "\n",
    "winners_array, losers_array = map(encoder.transform, [winners, losers])"
   ]
  },
  {
   "cell_type": "code",
   "execution_count": 59,
   "metadata": {},
   "outputs": [],
   "source": [
    "from functools import partial, wraps\n",
    "from jax.lax import scan\n",
    "\n",
    "init = jnp.zeros((len(encoder.classes_), len(surf_encoder.classes_)))\n",
    "\n",
    "@partial(jit, static_argnums=4)\n",
    "def calculate_ratings_scan(winners_array, losers_array, a_full, y_full, elo_functions, elo_params):\n",
    "    \n",
    "    fun_to_scan = partial(update_ratings, elo_functions=elo_functions, elo_params=elo_params)\n",
    "\n",
    "    ratings, liks = scan(fun_to_scan, init, [winners_array, losers_array, a_full, y_full])\n",
    "    \n",
    "    return ratings, jnp.sum(liks)"
   ]
  },
  {
   "cell_type": "code",
   "execution_count": 60,
   "metadata": {},
   "outputs": [],
   "source": [
    "y_full = jnp.array([[x] for x in margins])"
   ]
  },
  {
   "cell_type": "code",
   "execution_count": 61,
   "metadata": {},
   "outputs": [],
   "source": [
    "from ml_tools.jax import lo_tri_from_elements\n",
    "\n",
    "def get_starting_elts(cov_mat):\n",
    "    \n",
    "    L = jnp.linalg.cholesky(cov_mat)\n",
    "    elts = L[onp.tril_indices_from(L)]\n",
    "    \n",
    "    return elts\n",
    "\n",
    "def cov_mat_from_elts(elts, n_latent, jitter=1e-6):\n",
    "    \n",
    "    cov_mat = lo_tri_from_elements(elts, n_latent)\n",
    "    cov_mat = cov_mat @ cov_mat.T\n",
    "    \n",
    "    cov_mat = cov_mat + jnp.eye(n_latent) * jitter\n",
    "    \n",
    "    return cov_mat"
   ]
  },
  {
   "cell_type": "code",
   "execution_count": 62,
   "metadata": {},
   "outputs": [],
   "source": [
    "n_latent = len(surf_encoder.classes_)\n",
    "\n",
    "start_cov_mat = jnp.eye(n_latent)\n",
    "\n",
    "starting_elts = get_starting_elts(start_cov_mat)\n",
    "starting_elts = jnp.concatenate([starting_elts, jnp.array([0.1, 0.1, 0.1])])"
   ]
  },
  {
   "cell_type": "code",
   "execution_count": 63,
   "metadata": {},
   "outputs": [],
   "source": [
    "from ml_tools.lin_alg import num_triangular_elts\n",
    "\n",
    "ratings_lik = lambda *args: calculate_ratings_scan(*args)[1]\n",
    "\n",
    "elo_params = EloParams(theta={'factor': 0.1, 'offset': 0.1, 'obs_sd': 0.1}, \n",
    "                       cov_mat=start_cov_mat)\n",
    "\n",
    "elo_functions = EloFunctions(log_post_jac_x=jit(grad(calculate_log_posterior)),\n",
    "                             log_post_hess_x=jit(hessian(calculate_log_posterior)), \n",
    "                             predictive_lik_fun=calculate_predictive_lik)\n",
    "\n",
    "def update_params(x, params):\n",
    "    \n",
    "    cov_mat = cov_mat_from_elts(x[:num_triangular_elts(n_latent)], n_latent)\n",
    "    theta = {'factor': x[-3]**2, 'offset': x[-2], 'obs_sd': x[-1]**2}\n",
    "    \n",
    "    params = EloParams(theta=theta, cov_mat=cov_mat)\n",
    "    \n",
    "    print(theta)\n",
    "    print(cov_mat)\n",
    "    \n",
    "    return params\n",
    "\n",
    "def to_optimise(x, start_params, functions):\n",
    "        \n",
    "    params = update_params(x, start_params)\n",
    "    \n",
    "    cur_lik = ratings_lik(winners_array, losers_array, a_full, y_full, functions, params)\n",
    "\n",
    "    print(cur_lik)\n",
    "\n",
    "    return -cur_lik\n",
    "\n",
    "curried = partial(to_optimise, start_params=elo_params, functions=elo_functions)\n",
    "\n",
    "to_opt_grad = jit(grad(curried))"
   ]
  },
  {
   "cell_type": "code",
   "execution_count": 64,
   "metadata": {},
   "outputs": [
    {
     "name": "stdout",
     "output_type": "stream",
     "text": [
      "{'factor': Traced<ShapedArray(float64[])>with<JVPTrace(level=1/1)>, 'offset': Traced<ShapedArray(float64[])>with<JVPTrace(level=1/1)>, 'obs_sd': Traced<ShapedArray(float64[])>with<JVPTrace(level=1/1)>}\n",
      "Traced<ShapedArray(float64[5,5])>with<JVPTrace(level=1/1)>\n",
      "Traced<ShapedArray(float64[])>with<JVPTrace(level=1/1)>\n"
     ]
    },
    {
     "data": {
      "text/plain": [
       "DeviceArray([-8.46712359e+03, -1.12566725e+03, -2.18366122e+05,\n",
       "             -8.41919559e+02, -1.15994590e+03, -7.20876647e+04,\n",
       "             -6.93970397e+02, -5.47303605e+03, -2.33122653e+03,\n",
       "             -2.77063528e+05, -8.47274335e+02, -2.98065276e+03,\n",
       "             -1.54959721e+03, -4.55994707e+03, -1.07627834e+05,\n",
       "             -1.38377981e+07, -2.62580943e+04, -1.39721682e+07])"
      ]
     },
     "execution_count": 64,
     "metadata": {},
     "output_type": "execute_result"
    }
   ],
   "source": [
    "to_opt_grad(starting_elts)"
   ]
  },
  {
   "cell_type": "code",
   "execution_count": 65,
   "metadata": {},
   "outputs": [],
   "source": [
    "from scipy.optimize import minimize"
   ]
  },
  {
   "cell_type": "code",
   "execution_count": null,
   "metadata": {},
   "outputs": [
    {
     "name": "stdout",
     "output_type": "stream",
     "text": [
      "{'factor': 0.010000000000000002, 'offset': 0.1, 'obs_sd': 0.010000000000000002}\n",
      "[[1.000001 0.       0.       0.       0.      ]\n",
      " [0.       1.000001 0.       0.       0.      ]\n",
      " [0.       0.       1.000001 0.       0.      ]\n",
      " [0.       0.       0.       1.000001 0.      ]\n",
      " [0.       0.       0.       0.       1.000001]]\n",
      "-620104.4893622485\n",
      "{'factor': 0.6570534481979355, 'offset': 0.10134838615844509, 'obs_sd': 0.6682872901181472}\n",
      "[[1.00087078e+00 5.78295621e-05 4.32524259e-05 3.56517471e-05\n",
      "  4.35275199e-05]\n",
      " [5.78295621e-05 1.02255349e+00 6.02351006e-05 2.84200831e-04\n",
      "  1.54779104e-04]\n",
      " [4.32524259e-05 6.02351006e-05 1.00741829e+00 1.20172842e-04\n",
      "  7.98793287e-05]\n",
      " [3.56517471e-05 2.84200831e-04 1.20172842e-04 1.02865864e+00\n",
      "  2.37544621e-04]\n",
      " [4.35275199e-05 1.54779104e-04 7.98793287e-05 2.37544621e-04\n",
      "  1.01108528e+00]]\n",
      "-65099.05943369346\n",
      "{'factor': 718.0580299287989, 'offset': 0.05095539799862883, 'obs_sd': 830.8522720466985}\n",
      "[[ 3.57254620e-01  1.33067815e-02  1.92682302e-02  1.54046987e-02\n",
      "   1.55717793e-02]\n",
      " [ 1.33067815e-02  1.30220994e+02 -8.28886264e-01 -1.94017920e+00\n",
      "  -1.28458543e+00]\n",
      " [ 1.92682302e-02 -8.28886264e-01  1.56989628e+01 -4.23417032e-01\n",
      "  -3.14986776e-01]\n",
      " [ 1.54046987e-02 -1.94017920e+00 -4.23417032e-01  2.26710033e+02\n",
      "  -2.00866081e+00]\n",
      " [ 1.55717793e-02 -1.28458543e+00 -3.14986776e-01 -2.00866081e+00\n",
      "   2.53584956e+01]]\n",
      "-403824.2899449101\n",
      "{'factor': 26.523700330423733, 'offset': 0.09046797074435438, 'obs_sd': 47.12163975714748}\n",
      "[[ 8.34449103e-01  4.43236506e-03  6.38908344e-03  5.10875634e-03\n",
      "   5.16952807e-03]\n",
      " [ 4.43236506e-03  2.79217671e+00 -2.62727606e-02 -6.16996969e-02\n",
      "  -4.08047113e-02]\n",
      " [ 6.38908344e-03 -2.62727606e-02  4.96516745e-03 -1.01150224e-03\n",
      "  -7.86478243e-04]\n",
      " [ 5.10875634e-03 -6.16996969e-02 -1.01150224e-03  6.03100446e+00\n",
      "  -7.08397422e-02]\n",
      " [ 5.16952807e-03 -4.08047113e-02 -7.86478243e-04 -7.08397422e-02\n",
      "   9.06272127e-02]]\n",
      "-222019.300700091\n",
      "{'factor': 0.027782875527689915, 'offset': 0.09956451881387424, 'obs_sd': 3.272163374193426}\n",
      "[[9.72549206e-01 8.32187418e-04 1.16651283e-03 9.33631101e-04\n",
      "  9.50878384e-04]\n",
      " [8.32187418e-04 3.26571812e-01 1.50449057e-03 3.59613990e-03\n",
      "  2.36342849e-03]\n",
      " [1.16651283e-03 1.50449057e-03 6.85496948e-01 3.34355595e-03\n",
      "  2.47278977e-03]\n",
      " [9.33631101e-04 3.59613990e-03 3.34355595e-03 1.98414833e-01\n",
      "  2.27308823e-03]\n",
      " [9.50878384e-04 2.36342849e-03 2.47278977e-03 2.27308823e-03\n",
      "  6.27011113e-01]]\n",
      "-101620.76521847502\n",
      "{'factor': 0.4399548611074353, 'offset': 0.10107951578833715, 'obs_sd': 0.9349324869453055}\n",
      "[[9.96576046e-01 1.75977770e-04 2.14633620e-04 1.72660766e-04\n",
      "  1.81966593e-04]\n",
      " [1.75977770e-04 8.92898964e-01 4.22548294e-04 1.12162550e-03\n",
      "  7.11689129e-04]\n",
      " [2.14633620e-04 4.22548294e-04 9.54941933e-01 6.91583997e-04\n",
      "  5.04180095e-04]\n",
      " [1.72660766e-04 1.12162550e-03 6.91583997e-04 8.62092799e-01\n",
      "  8.87970847e-04]\n",
      " [1.81966593e-04 7.11689129e-04 5.04180095e-04 8.87970847e-04\n",
      "  9.47343399e-01]]\n",
      "-63307.48951475584\n",
      "{'factor': 0.5288566223712518, 'offset': 0.07416550806870476, 'obs_sd': 0.8388570866832578}\n",
      "[[0.98082171 0.00115977 0.00164874 0.00151312 0.00143665]\n",
      " [0.00115977 0.47692599 0.00318884 0.00704527 0.0046961 ]\n",
      " [0.00164874 0.00318884 0.7665856  0.0062321  0.00459939]\n",
      " [0.00151312 0.00704527 0.0062321  0.35895646 0.00493985]\n",
      " [0.00143665 0.0046961  0.00459939 0.00493985 0.72175285]]\n",
      "-59160.46241635918\n",
      "{'factor': 0.9662157087837778, 'offset': -0.03349052280982487, 'obs_sd': 0.5066319131809867}\n",
      "[[ 0.91905959  0.00493733  0.00715548  0.0066603   0.00625444]\n",
      " [ 0.00493733  0.10679193 -0.00691637 -0.0150756  -0.01008759]\n",
      " [ 0.00715548 -0.00691637  0.22031083  0.01626309  0.01196508]\n",
      " [ 0.0066603  -0.0150756   0.01626309  0.52014516 -0.02399133]\n",
      " [ 0.00625444 -0.01008759  0.01196508 -0.02399133  0.12831943]]\n",
      "-54678.37524197125\n",
      "{'factor': 0.6657437014245704, 'offset': 0.03682359547326135, 'obs_sd': 0.714182113685387}\n",
      "[[0.95917122 0.00249863 0.00360046 0.0033374  0.00314419]\n",
      " [0.00249863 0.11406036 0.00352062 0.00767591 0.00513609]\n",
      " [0.00360046 0.00352062 0.53955918 0.01191012 0.00878817]\n",
      " [0.0033374  0.00767591 0.01191012 0.02090087 0.0030856 ]\n",
      " [0.00314419 0.00513609 0.00878817 0.0030856  0.45992262]]\n",
      "-51768.19436453215\n",
      "{'factor': 0.7925392390773675, 'offset': 0.005539491487419099, 'obs_sd': 0.6174499223254385}\n",
      "[[ 9.41218990e-01  3.59694224e-03  5.20151905e-03  4.83391592e-03\n",
      "   4.54493641e-03]\n",
      " [ 3.59694224e-03  1.78578419e-03  6.61285875e-04  1.41475048e-03\n",
      "   9.52045674e-04]\n",
      " [ 5.20151905e-03  6.61285875e-04  3.80060345e-01  1.48692737e-02\n",
      "   1.09614560e-02]\n",
      " [ 4.83391592e-03  1.41475048e-03  1.48692737e-02  5.98172485e-02\n",
      "  -5.15706012e-03]\n",
      " [ 4.54493641e-03  9.52045674e-04  1.09614560e-02 -5.15706012e-03\n",
      "   2.86348795e-01]]\n",
      "-47657.859712181475\n",
      "{'factor': 2.198104761276075, 'offset': 1.305047378974362, 'obs_sd': 0.09334353925354717}\n",
      "[[ 0.63225852  0.10493949  0.01209026 -0.00958343  0.01036633]\n",
      " [ 0.10493949  6.55604694 -0.09678465  0.39454518 -0.11717488]\n",
      " [ 0.01209026 -0.09678465  2.84496034  0.16363348 -0.05224371]\n",
      " [-0.00958343  0.39454518  0.16363348  3.50493542  0.04771636]\n",
      " [ 0.01036633 -0.11717488 -0.05224371  0.04771636  5.2312239 ]]\n",
      "-132440.1589773055\n",
      "{'factor': 0.8640748702187089, 'offset': 0.0917768945004972, 'obs_sd': 0.5683789783509154}\n",
      "[[ 0.91881804  0.01171309  0.00576541  0.00369244  0.00502182]\n",
      " [ 0.01171309  0.01715462 -0.0021164  -0.00265173 -0.00304234]\n",
      " [ 0.00576541 -0.0021164   0.21513513  0.00734018  0.00886228]\n",
      " [ 0.00369244 -0.00265173  0.00734018  0.12230998 -0.00701936]\n",
      " [ 0.00502182 -0.00304234  0.00886228 -0.00701936  0.12154373]]\n",
      "-45958.76871294619\n",
      "{'factor': 0.9745700538849602, 'offset': -0.09460336449804843, 'obs_sd': 0.5018708384248691}\n",
      "[[ 8.68389880e-01 -1.79745264e-02  6.31651152e-03  1.88266979e-03\n",
      "   4.97158257e-03]\n",
      " [-1.79745264e-02  1.49963420e-01 -3.90720696e-03  8.15235988e-04\n",
      "  -2.52332432e-03]\n",
      " [ 6.31651152e-03 -3.90720696e-03  8.73111680e-03  1.04260656e-03\n",
      "   1.62334797e-03]\n",
      " [ 1.88266979e-03  8.15235988e-04  1.04260656e-03  1.87915989e-01\n",
      "  -5.89112855e-03]\n",
      " [ 4.97158257e-03 -2.52332432e-03  1.62334797e-03 -5.89112855e-03\n",
      "   9.14169981e-03]]\n",
      "-47644.86355669234\n",
      "{'factor': 0.9028636941506427, 'offset': 0.025060706221964768, 'obs_sd': 0.5440965097434206}\n",
      "[[ 9.00603371e-01  8.93020976e-04  5.96736086e-03  3.03338669e-03\n",
      "   5.00442798e-03]\n",
      " [ 8.93020976e-04  4.93612027e-02 -3.16608313e-03 -2.77350720e-03\n",
      "  -3.89069882e-03]\n",
      " [ 5.96736086e-03 -3.16608313e-03  1.09639612e-01  4.73373428e-03\n",
      "   6.09581530e-03]\n",
      " [ 3.03338669e-03 -2.77350720e-03  4.73373428e-03  1.44026142e-01\n",
      "  -6.87192318e-03]\n",
      " [ 5.00442798e-03 -3.89069882e-03  6.09581530e-03 -6.87192318e-03\n",
      "   3.68598470e-02]]\n",
      "-45254.11260375744\n",
      "{'factor': 0.9498514606588105, 'offset': -0.00893820961663478, 'obs_sd': 0.5155351039167901}\n",
      "[[ 8.64217796e-01 -1.49077576e-02  5.68868040e-03  6.89452977e-03\n",
      "   5.49713249e-03]\n",
      " [-1.49077576e-02  5.09170530e-03  9.38589535e-07 -4.09316091e-03\n",
      "   1.74569842e-03]\n",
      " [ 5.68868040e-03  9.38589535e-07  1.85020872e-03  2.00178959e-03\n",
      "   1.11085535e-03]\n",
      " [ 6.89452977e-03 -4.09316091e-03  2.00178959e-03  3.23906203e-01\n",
      "   1.01131901e-03]\n",
      " [ 5.49713249e-03  1.74569842e-03  1.11085535e-03  1.01131901e-03\n",
      "   1.73318800e-03]]\n",
      "-45414.7654960153\n",
      "{'factor': 0.9254003388251292, 'offset': 0.008646204032762988, 'obs_sd': 0.5302110751412592}\n",
      "[[ 8.82942932e-01 -6.81762057e-03  5.83199915e-03  4.91793593e-03\n",
      "   5.24539777e-03]\n",
      " [-6.81762057e-03  2.20978533e-02 -1.03926185e-03 -5.09525599e-03\n",
      "   5.10657081e-04]\n",
      " [ 5.83199915e-03 -1.03926185e-03  3.67964133e-02  6.05074080e-03\n",
      "   4.00610437e-03]\n",
      " [ 4.91793593e-03 -5.09525599e-03  6.05074080e-03  2.21518560e-01\n",
      "  -3.63771660e-03]\n",
      " [ 5.24539777e-03  5.10657081e-04  4.00610437e-03 -3.63771660e-03\n",
      "   8.35634683e-03]]\n",
      "-44843.00633262613\n",
      "{'factor': 0.9544348765567876, 'offset': -0.023403845065409674, 'obs_sd': 0.512469031465339}\n",
      "[[ 0.79822992  0.02777541 -0.0010877  -0.00151108  0.01149954]\n",
      " [ 0.02777541  0.02060261  0.0094683   0.00442117  0.01514759]\n",
      " [-0.0010877   0.0094683   0.06464149  0.00489878 -0.01218639]\n",
      " [-0.00151108  0.00442117  0.00489878  0.29356588  0.03517041]\n",
      " [ 0.01149954  0.01514759 -0.01218639  0.03517041  0.08277386]]\n",
      "-47233.96385536419\n",
      "{'factor': 0.9287751978581572, 'offset': 0.004895255408132734, 'obs_sd': 0.5281190514231218}\n",
      "[[ 8.72807927e-01 -2.58594407e-03  4.98670444e-03  4.13245060e-03\n",
      "   6.01215356e-03]\n",
      " [-2.58594407e-03  2.17637279e-02  2.84193277e-04 -3.89714719e-03\n",
      "   2.28237923e-03]\n",
      " [ 4.98670444e-03  2.84193277e-04  1.97748474e-02  3.53597771e-03\n",
      "   3.94944047e-03]\n",
      " [ 4.13245060e-03 -3.89714719e-03  3.53597771e-03  2.28778062e-01\n",
      "  -5.39965367e-05]\n",
      " [ 6.01215356e-03  2.28237923e-03  3.94944047e-03 -5.39965367e-05\n",
      "   1.25041758e-02]]\n",
      "-44788.246072938484\n"
     ]
    },
    {
     "name": "stdout",
     "output_type": "stream",
     "text": [
      "{'factor': 0.9319167808071877, 'offset': 0.007432767862805424, 'obs_sd': 0.5260726652029891}\n",
      "[[ 0.77447917 -0.04418625  0.00801049  0.00551322 -0.00320577]\n",
      " [-0.04418625  0.02404104  0.01049534 -0.00594255 -0.01172901]\n",
      " [ 0.00801049  0.01049534  0.00854277 -0.00153463 -0.00798534]\n",
      " [ 0.00551322 -0.00594255 -0.00153463  0.2345662  -0.03090193]\n",
      " [-0.00320577 -0.01172901 -0.00798534 -0.03090193  0.03543613]]\n",
      "-45232.938969768205\n",
      "{'factor': 0.9290548035188502, 'offset': 0.005121271683782821, 'obs_sd': 0.5279366186146367}\n",
      "[[ 0.86381146 -0.0064999   0.00527259  0.00426353  0.0051468 ]\n",
      " [-0.0064999   0.02178391  0.00121292 -0.00407303  0.00098929]\n",
      " [ 0.00527259  0.00121292  0.01773397  0.00314282  0.00301755]\n",
      " [ 0.00426353 -0.00407303  0.00314282  0.2292791  -0.00287396]\n",
      " [ 0.0051468   0.00098929  0.00301755 -0.00287396  0.01292466]]\n",
      "-44783.15553911831\n",
      "{'factor': 0.9292256480511698, 'offset': 0.003683684114523839, 'obs_sd': 0.5278395156619033}\n",
      "[[ 0.8066758   0.00652019  0.00524129  0.00415781  0.00285058]\n",
      " [ 0.00652019  0.02183042  0.0028616  -0.00455531  0.00091033]\n",
      " [ 0.00524129  0.0028616   0.01790909  0.0033005   0.00253888]\n",
      " [ 0.00415781 -0.00455531  0.0033005   0.22947644 -0.00405392]\n",
      " [ 0.00285058  0.00091033  0.00253888 -0.00405392  0.01269025]]\n",
      "-44782.08447675631\n",
      "{'factor': 0.9292833413640619, 'offset': 0.003723084477638759, 'obs_sd': 0.5278044784447564}\n",
      "[[ 0.79262486  0.00619808  0.00527368  0.00417847  0.00284882]\n",
      " [ 0.00619808  0.02184081  0.00299951 -0.00458467  0.00098134]\n",
      " [ 0.00527368  0.00299951  0.01799023  0.00331352  0.00254382]\n",
      " [ 0.00417847 -0.00458467  0.00331352  0.22954636 -0.00397763]\n",
      " [ 0.00284882  0.00098134  0.00254382 -0.00397763  0.01268675]]\n",
      "-44779.93779823806\n",
      "{'factor': 0.9295141325252468, 'offset': 0.0038806859300984393, 'obs_sd': 0.5276643412051515}\n",
      "[[ 0.73765561  0.00495642  0.00538943  0.00425106  0.00283771]\n",
      " [ 0.00495642  0.02188417  0.00355155 -0.00470266  0.00126569]\n",
      " [ 0.00538943  0.00355155  0.01833295  0.00336329  0.00257233]\n",
      " [ 0.00425106 -0.00470266  0.00336329  0.22982862 -0.00367466]\n",
      " [ 0.00283771  0.00126569  0.00257233 -0.00367466  0.01267837]]\n",
      "-44771.686550878476\n",
      "{'factor': 0.9304375837238535, 'offset': 0.0045110917399371585, 'obs_sd': 0.527103978310457}\n",
      "[[ 0.53753052  0.00073832  0.00563149  0.00438037  0.00272782]\n",
      " [ 0.00073832  0.02208679  0.00576619 -0.00518362  0.0024083 ]\n",
      " [ 0.00563149  0.00576619  0.01999496  0.00352562  0.00282656]\n",
      " [ 0.00438037 -0.00518362  0.00352562  0.23099959 -0.00249801]\n",
      " [ 0.00272782  0.0024083   0.00282656 -0.00249801  0.01273504]]\n",
      "-44743.92422520538\n",
      "{'factor': 0.9323252909455454, 'offset': 0.003947180296650912, 'obs_sd': 0.5259687011701224}\n",
      "[[ 0.20284893 -0.00065266  0.00399592  0.00294587  0.00183027]\n",
      " [-0.00065266  0.02163532  0.00766321 -0.00528528  0.00322938]\n",
      " [ 0.00399592  0.00766321  0.02201628  0.00337004  0.00296216]\n",
      " [ 0.00294587 -0.00528528  0.00337004  0.23404476 -0.0016249 ]\n",
      " [ 0.00183027  0.00322938  0.00296216 -0.0016249   0.01294889]]\n",
      "-44660.26829876128\n"
     ]
    }
   ],
   "source": [
    "result = minimize(curried, starting_elts, jac=to_opt_grad, tol=1e-3)"
   ]
  },
  {
   "cell_type": "code",
   "execution_count": 29,
   "metadata": {},
   "outputs": [
    {
     "name": "stdout",
     "output_type": "stream",
     "text": [
      "{'factor': 0.024625988956615653, 'offset': 0.10212920904257114, 'obs_sd': 0.08778945834230846}\n",
      "[[0.27056187 0.12372393 0.17677553 0.16298591]\n",
      " [0.12372393 0.34363353 0.23048651 0.20608115]\n",
      " [0.17677553 0.23048651 0.22904195 0.20191787]\n",
      " [0.16298591 0.20608115 0.20191787 0.24036722]]\n"
     ]
    }
   ],
   "source": [
    "final_params = update_params(result.x, elo_params)"
   ]
  },
  {
   "cell_type": "code",
   "execution_count": 30,
   "metadata": {},
   "outputs": [
    {
     "data": {
      "text/plain": [
       "True"
      ]
     },
     "execution_count": 30,
     "metadata": {},
     "output_type": "execute_result"
    }
   ],
   "source": [
    "result.success"
   ]
  },
  {
   "cell_type": "code",
   "execution_count": 32,
   "metadata": {},
   "outputs": [],
   "source": [
    "final_ratings, _ = calculate_ratings_scan(winners_array, losers_array, a_full, y_full, elo_functions, final_params)"
   ]
  },
  {
   "cell_type": "code",
   "execution_count": 33,
   "metadata": {},
   "outputs": [],
   "source": [
    "fed = encoder.transform(['Roger Federer'])[0]"
   ]
  },
  {
   "cell_type": "code",
   "execution_count": 34,
   "metadata": {},
   "outputs": [
    {
     "data": {
      "text/plain": [
       "DeviceArray([3.00153266, 3.93462673, 3.81033389, 3.68553774])"
      ]
     },
     "execution_count": 34,
     "metadata": {},
     "output_type": "execute_result"
    }
   ],
   "source": [
    "final_ratings[fed]"
   ]
  },
  {
   "cell_type": "code",
   "execution_count": 36,
   "metadata": {},
   "outputs": [
    {
     "data": {
      "text/plain": [
       "DeviceArray([[0.27056187, 0.12372393, 0.17677553, 0.16298591],\n",
       "             [0.12372393, 0.34363353, 0.23048651, 0.20608115],\n",
       "             [0.17677553, 0.23048651, 0.22904195, 0.20191787],\n",
       "             [0.16298591, 0.20608115, 0.20191787, 0.24036722]])"
      ]
     },
     "execution_count": 36,
     "metadata": {},
     "output_type": "execute_result"
    }
   ],
   "source": [
    "final_params.cov_mat"
   ]
  },
  {
   "cell_type": "code",
   "execution_count": 41,
   "metadata": {},
   "outputs": [],
   "source": [
    "import pandas as pd\n",
    "\n",
    "final_ratings = pd.DataFrame(final_ratings, index=encoder.classes_, columns=surf_encoder.classes_).drop('Robin Soderling')"
   ]
  },
  {
   "cell_type": "code",
   "execution_count": 42,
   "metadata": {},
   "outputs": [],
   "source": [
    "from tpr.models.utils import to_elo_scale"
   ]
  },
  {
   "cell_type": "code",
   "execution_count": 43,
   "metadata": {},
   "outputs": [],
   "source": [
    "final_ratings_elo = to_elo_scale(final_ratings)"
   ]
  },
  {
   "cell_type": "code",
   "execution_count": 44,
   "metadata": {},
   "outputs": [
    {
     "data": {
      "text/plain": [
       "Novak Djokovic           2145\n",
       "Rafael Nadal             2145\n",
       "Roger Federer            2140\n",
       "Daniil Medvedev          2053\n",
       "Juan Martin Del Potro    1976\n",
       "Dominic Thiem            1906\n",
       "Milos Raonic             1873\n",
       "Stefanos Tsitsipas       1864\n",
       "Alexander Zverev         1860\n",
       "Andrey Rublev            1853\n",
       "Name: indoor_hard, dtype: int64"
      ]
     },
     "execution_count": 44,
     "metadata": {},
     "output_type": "execute_result"
    }
   ],
   "source": [
    "final_ratings_elo.sort_values('indoor_hard', ascending=False)['indoor_hard'].round(0).astype(int).iloc[:10]"
   ]
  },
  {
   "cell_type": "code",
   "execution_count": null,
   "metadata": {},
   "outputs": [],
   "source": []
  }
 ],
 "metadata": {
  "kernelspec": {
   "display_name": "Python 3",
   "language": "python",
   "name": "python3"
  },
  "language_info": {
   "codemirror_mode": {
    "name": "ipython",
    "version": 3
   },
   "file_extension": ".py",
   "mimetype": "text/x-python",
   "name": "python",
   "nbconvert_exporter": "python",
   "pygments_lexer": "ipython3",
   "version": "3.7.4"
  }
 },
 "nbformat": 4,
 "nbformat_minor": 2
}
